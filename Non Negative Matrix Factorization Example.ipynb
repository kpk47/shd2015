{
 "cells": [
  {
   "cell_type": "markdown",
   "metadata": {},
   "source": [
    "http://scikit-learn.org/stable/auto_examples/applications/topics_extraction_with_nmf.html#example-applications-topics-extraction-with-nmf-py"
   ]
  },
  {
   "cell_type": "code",
   "execution_count": null,
   "metadata": {
    "collapsed": true
   },
   "outputs": [],
   "source": []
  },
  {
   "cell_type": "code",
   "execution_count": 1,
   "metadata": {
    "collapsed": true
   },
   "outputs": [],
   "source": [
    "from __future__ import print_function"
   ]
  },
  {
   "cell_type": "code",
   "execution_count": 3,
   "metadata": {
    "collapsed": false
   },
   "outputs": [],
   "source": [
    "from time import time\n",
    "from sklearn.feature_extraction.text import TfidfVectorizer\n",
    "from sklearn.decomposition import NMF\n",
    "from sklearn.datasets import fetch_20newsgroups"
   ]
  },
  {
   "cell_type": "code",
   "execution_count": 16,
   "metadata": {
    "collapsed": true
   },
   "outputs": [],
   "source": [
    "import json"
   ]
  },
  {
   "cell_type": "code",
   "execution_count": null,
   "metadata": {
    "collapsed": false
   },
   "outputs": [],
   "source": []
  },
  {
   "cell_type": "code",
   "execution_count": 44,
   "metadata": {
    "collapsed": false
   },
   "outputs": [],
   "source": [
    "json_file = open(\"sample_with_abstracts.json\").read()"
   ]
  },
  {
   "cell_type": "code",
   "execution_count": 45,
   "metadata": {
    "collapsed": false
   },
   "outputs": [],
   "source": [
    "\n",
    "data = []\n",
    "for line in json_file.splitlines(): \n",
    "    data.append(json.loads(line).get(\"abstract\"))\n",
    "    "
   ]
  },
  {
   "cell_type": "code",
   "execution_count": 46,
   "metadata": {
    "collapsed": false
   },
   "outputs": [],
   "source": [
    "nsamples = 1000\n",
    "n_features = 50\n",
    "n_topics = 20 \n",
    "n_top_words = 20 "
   ]
  },
  {
   "cell_type": "code",
   "execution_count": 47,
   "metadata": {
    "collapsed": true
   },
   "outputs": [],
   "source": [
    "vectorizer = TfidfVectorizer(max_df = 0.95, min_df = 2, max_features = n_features, stop_words='english')\n",
    "tfidf = vectorizer.fit_transform(data)\n"
   ]
  },
  {
   "cell_type": "code",
   "execution_count": 61,
   "metadata": {
    "collapsed": false
   },
   "outputs": [
    {
     "data": {
      "text/plain": [
       "<5000x50 sparse matrix of type '<type 'numpy.float64'>'\n",
       "\twith 29956 stored elements in Compressed Sparse Row format>"
      ]
     },
     "execution_count": 61,
     "metadata": {},
     "output_type": "execute_result"
    }
   ],
   "source": [
    "tfidf"
   ]
  },
  {
   "cell_type": "code",
   "execution_count": 62,
   "metadata": {
    "collapsed": false
   },
   "outputs": [
    {
     "data": {
      "text/plain": [
       "array([[ 0.        ,  0.        ,  0.        ,  0.        ,  0.        ,\n",
       "         0.        ,  0.        ,  0.40257972,  0.        ,  0.        ,\n",
       "         0.        ,  0.        ,  0.        ,  0.        ,  0.        ,\n",
       "         0.        ,  0.        ,  0.19120957,  0.        ,  0.49584583,\n",
       "         0.        ,  0.27596504,  0.        ,  0.        ,  0.        ,\n",
       "         0.        ,  0.        ,  0.17694123,  0.        ,  0.        ,\n",
       "         0.20334309,  0.        ,  0.        ,  0.        ,  0.58863629,\n",
       "         0.        ,  0.20066236,  0.        ,  0.        ,  0.        ,\n",
       "         0.        ,  0.        ,  0.        ,  0.        ,  0.        ,\n",
       "         0.        ,  0.        ,  0.14118781,  0.        ,  0.        ]])"
      ]
     },
     "execution_count": 62,
     "metadata": {},
     "output_type": "execute_result"
    }
   ],
   "source": [
    "tfidf[23,:].toarray()"
   ]
  },
  {
   "cell_type": "code",
   "execution_count": null,
   "metadata": {
    "collapsed": true
   },
   "outputs": [],
   "source": []
  },
  {
   "cell_type": "code",
   "execution_count": 48,
   "metadata": {
    "collapsed": false
   },
   "outputs": [],
   "source": [
    "nmf = NMF(n_components=n_topics, random_state=1).fit(tfidf)"
   ]
  },
  {
   "cell_type": "code",
   "execution_count": 49,
   "metadata": {
    "collapsed": true
   },
   "outputs": [],
   "source": [
    "feature_names = vectorizer.get_feature_names()"
   ]
  },
  {
   "cell_type": "code",
   "execution_count": 50,
   "metadata": {
    "collapsed": false
   },
   "outputs": [
    {
     "name": "stdout",
     "output_type": "stream",
     "text": [
      "Topic #0:\n",
      "theory string effective field terms general study present discuss theories phase form using obtained case dimensional symmetry point space shown\n",
      "\n",
      "Topic #1:\n",
      "field quantum scalar point fields theories potential function case shown effective state general effects dimensional terms form study discuss obtained\n",
      "\n",
      "Topic #2:\n",
      "energy potential state 10 effective study effects function shown time general case discuss using terms form present obtained decay symmetry\n",
      "\n",
      "Topic #3:\n",
      "model standard shown study state symmetry point phase terms using decay potential form effective general effects obtained dimensional 10 case\n",
      "\n",
      "Topic #4:\n",
      "neutrino 10 decay data effects symmetry discuss standard effective terms study case present solutions shown obtained function general brane gauge\n",
      "\n",
      "Topic #5:\n",
      "results data using present function obtained state form effects case terms general point shown study discuss dimensional effective gauge gamma\n",
      "\n",
      "Topic #6:\n",
      "mass 10 standard using scalar effective effects decay study obtained terms case general symmetry present potential discuss energy theory equations\n",
      "\n",
      "Topic #7:\n",
      "gauge theories fields symmetry terms dimensional form general shown standard using effective discuss field function case study obtained potential point\n",
      "\n",
      "Topic #8:\n",
      "space time case dimensional phase point general shown symmetry study using form present decay terms fields quantum obtained state 10\n",
      "\n",
      "Topic #9:\n",
      "quark symmetry phase potential effects decay study discuss shown form effective using state terms case obtained string general gauge gamma\n",
      "\n",
      "Topic #10:\n",
      "models symmetry theories scalar string present discuss potential general terms 10 case data state study decay space dimensional shown large\n",
      "\n",
      "Topic #11:\n",
      "matter phase state scalar fields potential effects discuss present case shown study point 10 function form effective obtained energy mass\n",
      "\n",
      "Topic #12:\n",
      "non study theories case effects point general form potential discuss string standard effective obtained state terms using scalar shown symmetry\n",
      "\n",
      "Topic #13:\n",
      "new present standard discuss decay general symmetry effects form shown function theories using point terms scalar energy gamma state string\n",
      "\n",
      "Topic #14:\n",
      "pi decay form using study scalar effects effective data state discuss terms obtained shown symmetry standard case 10 potential point\n",
      "\n",
      "Topic #15:\n",
      "order phase terms effective 10 point form function study obtained state effects equations general potential symmetry using scalar present case\n",
      "\n",
      "Topic #16:\n",
      "solutions equations general shown case fields field terms obtained form scalar study symmetry dimensional discuss using potential present space state\n",
      "\n",
      "Topic #17:\n",
      "large discuss case effects point study decay 10 potential using theories general present state standard terms energy gamma function form\n",
      "\n",
      "Topic #18:\n",
      "gamma 10 decay data study effects using standard form fields point field discuss time present string case equations gauge symmetry\n",
      "\n",
      "Topic #19:\n",
      "brane dimensional string theories effective discuss study potential space fields obtained using scalar solutions form present case point symmetry standard\n",
      "\n"
     ]
    }
   ],
   "source": [
    "for topic_idx,topic in enumerate(nmf.components_):\n",
    "    print(\"Topic #%d:\" %topic_idx)\n",
    "    print(\" \".join([feature_names[i] for i in topic.argsort()[:-n_top_words -1:-1]]))\n",
    "    print()"
   ]
  },
  {
   "cell_type": "code",
   "execution_count": 63,
   "metadata": {
    "collapsed": false
   },
   "outputs": [
    {
     "data": {
      "text/plain": [
       "[u'10',\n",
       " u'brane',\n",
       " u'case',\n",
       " u'data',\n",
       " u'decay',\n",
       " u'dimensional',\n",
       " u'discuss',\n",
       " u'effective',\n",
       " u'effects',\n",
       " u'energy',\n",
       " u'equations',\n",
       " u'field',\n",
       " u'fields',\n",
       " u'form',\n",
       " u'function',\n",
       " u'gamma',\n",
       " u'gauge',\n",
       " u'general',\n",
       " u'large',\n",
       " u'mass',\n",
       " u'matter',\n",
       " u'model',\n",
       " u'models',\n",
       " u'neutrino',\n",
       " u'new',\n",
       " u'non',\n",
       " u'obtained',\n",
       " u'order',\n",
       " u'phase',\n",
       " u'pi',\n",
       " u'point',\n",
       " u'potential',\n",
       " u'present',\n",
       " u'quantum',\n",
       " u'quark',\n",
       " u'results',\n",
       " u'scalar',\n",
       " u'shown',\n",
       " u'solutions',\n",
       " u'space',\n",
       " u'standard',\n",
       " u'state',\n",
       " u'string',\n",
       " u'study',\n",
       " u'symmetry',\n",
       " u'terms',\n",
       " u'theories',\n",
       " u'theory',\n",
       " u'time',\n",
       " u'using']"
      ]
     },
     "execution_count": 63,
     "metadata": {},
     "output_type": "execute_result"
    }
   ],
   "source": [
    "feature_names"
   ]
  },
  {
   "cell_type": "code",
   "execution_count": null,
   "metadata": {
    "collapsed": true
   },
   "outputs": [],
   "source": []
  },
  {
   "cell_type": "code",
   "execution_count": null,
   "metadata": {
    "collapsed": false
   },
   "outputs": [],
   "source": []
  }
 ],
 "metadata": {
  "kernelspec": {
   "display_name": "Python 2",
   "language": "python",
   "name": "python2"
  },
  "language_info": {
   "codemirror_mode": {
    "name": "ipython",
    "version": 2
   },
   "file_extension": ".py",
   "mimetype": "text/x-python",
   "name": "python",
   "nbconvert_exporter": "python",
   "pygments_lexer": "ipython2",
   "version": "2.7.10"
  }
 },
 "nbformat": 4,
 "nbformat_minor": 0
}
