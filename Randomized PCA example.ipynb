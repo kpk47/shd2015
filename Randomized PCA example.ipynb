{
 "cells": [
  {
   "cell_type": "markdown",
   "metadata": {},
   "source": [
    "http://scikit-learn.org/stable/auto_examples/applications/topics_extraction_with_nmf.html#example-applications-topics-extraction-with-nmf-py"
   ]
  },
  {
   "cell_type": "code",
   "execution_count": null,
   "metadata": {
    "collapsed": true
   },
   "outputs": [],
   "source": []
  },
  {
   "cell_type": "code",
   "execution_count": 1,
   "metadata": {
    "collapsed": true
   },
   "outputs": [],
   "source": [
    "from __future__ import print_function"
   ]
  },
  {
   "cell_type": "code",
   "execution_count": 2,
   "metadata": {
    "collapsed": false
   },
   "outputs": [],
   "source": [
    "from time import time\n",
    "from sklearn.feature_extraction.text import TfidfVectorizer\n",
    "import numpy as np\n",
    "from sklearn.decomposition import RandomizedPCA"
   ]
  },
  {
   "cell_type": "code",
   "execution_count": 3,
   "metadata": {
    "collapsed": true
   },
   "outputs": [],
   "source": [
    "import json\n",
    "import random"
   ]
  },
  {
   "cell_type": "code",
   "execution_count": null,
   "metadata": {
    "collapsed": false
   },
   "outputs": [],
   "source": []
  },
  {
   "cell_type": "code",
   "execution_count": 22,
   "metadata": {
    "collapsed": false
   },
   "outputs": [],
   "source": [
    "data = []\n",
    "ids = []\n",
    "with open(\"with_abstracts.json\", 'r') as json_file:\n",
    "    for line in json_file.readlines():\n",
    "        if random.random() < 0.04:\n",
    "            data.append(json.loads(line).get(\"abstract\"))   \n",
    "            ids.append(json.loads(line).get(\"recid\"))    "
   ]
  },
  {
   "cell_type": "code",
   "execution_count": 25,
   "metadata": {
    "collapsed": false
   },
   "outputs": [
    {
     "data": {
      "text/plain": [
       "17612"
      ]
     },
     "execution_count": 25,
     "metadata": {},
     "output_type": "execute_result"
    }
   ],
   "source": [
    "len(data)"
   ]
  },
  {
   "cell_type": "code",
   "execution_count": 36,
   "metadata": {
    "collapsed": false
   },
   "outputs": [
    {
     "data": {
      "text/plain": [
       "u'Systems that exhibit pattern formation are typically driven and dissipative. In the early universe, parametric resonance can drive explosive particle production called preheating. The fields that are populated then decay quantum mechanically if their particles are unstable. Thus, during preheating, a driven-dissipative system exists. We have shown previously that pattern formation can occur in two dimensions in a self-coupled inflaton system undergoing parametric resonance. In this paper, we provide evidence of pattern formation for more realistic initial conditions in both two and three dimensions. In the one-field case, we have the novel interpretation that these patterns can be thought of as a network of domain walls. We also show that the patterns are spatio-temporal, leading to a distinctive, but probably low-amplitude peak in the gravitational wave spectrum. In the context of a two-field model, we discuss putting power from resonance into patterns on cosmological scales, in particular to explain the observed excess power at 100 h^{-1}Mpc, but why this seems unlikely in the absence of a period of post-preheating inflation. Finally we note our model is similar to that of the decay of DCCs and therefore pattern formation may also occur at RHIC and LHC.'"
      ]
     },
     "execution_count": 36,
     "metadata": {},
     "output_type": "execute_result"
    }
   ],
   "source": []
  },
  {
   "cell_type": "code",
   "execution_count": null,
   "metadata": {
    "collapsed": true
   },
   "outputs": [],
   "source": []
  },
  {
   "cell_type": "code",
   "execution_count": null,
   "metadata": {
    "collapsed": true
   },
   "outputs": [],
   "source": []
  },
  {
   "cell_type": "code",
   "execution_count": null,
   "metadata": {
    "collapsed": true
   },
   "outputs": [],
   "source": []
  },
  {
   "cell_type": "code",
   "execution_count": 39,
   "metadata": {
    "collapsed": false
   },
   "outputs": [],
   "source": [
    "n_features = 25\n",
    "n_topics = 20 \n",
    "n_top_words = 20 "
   ]
  },
  {
   "cell_type": "code",
   "execution_count": 40,
   "metadata": {
    "collapsed": false
   },
   "outputs": [],
   "source": [
    "vectorizer = TfidfVectorizer(max_df = 0.95, min_df = 2, max_features = n_features, stop_words='english')\n",
    "tfidf = vectorizer.fit_transform(data)\n"
   ]
  },
  {
   "cell_type": "code",
   "execution_count": 41,
   "metadata": {
    "collapsed": false
   },
   "outputs": [
    {
     "data": {
      "text/plain": [
       "<17612x25 sparse matrix of type '<type 'numpy.float64'>'\n",
       "\twith 69095 stored elements in Compressed Sparse Row format>"
      ]
     },
     "execution_count": 41,
     "metadata": {},
     "output_type": "execute_result"
    }
   ],
   "source": [
    "tfidf"
   ]
  },
  {
   "cell_type": "code",
   "execution_count": 44,
   "metadata": {
    "collapsed": false
   },
   "outputs": [
    {
     "data": {
      "text/plain": [
       "array([[ 0.        ,  0.        ,  0.        ,  0.        ,  0.        ,\n",
       "         0.        ,  0.        ,  0.36246621,  0.        ,  0.66971222,\n",
       "         0.        ,  0.        ,  0.        ,  0.        ,  0.36613548,\n",
       "         0.        ,  0.        ,  0.        ,  0.        ,  0.        ,\n",
       "         0.        ,  0.        ,  0.38029082,  0.37606847,  0.        ]])"
      ]
     },
     "execution_count": 44,
     "metadata": {},
     "output_type": "execute_result"
    }
   ],
   "source": [
    "tfidf[19,:].toarray()"
   ]
  },
  {
   "cell_type": "code",
   "execution_count": null,
   "metadata": {
    "collapsed": false
   },
   "outputs": [],
   "source": []
  },
  {
   "cell_type": "code",
   "execution_count": 45,
   "metadata": {
    "collapsed": false
   },
   "outputs": [],
   "source": [
    "pca = RandomizedPCA(n_components=15)"
   ]
  },
  {
   "cell_type": "code",
   "execution_count": 46,
   "metadata": {
    "collapsed": false
   },
   "outputs": [
    {
     "data": {
      "text/plain": [
       "RandomizedPCA(copy=True, iterated_power=3, n_components=15, random_state=None,\n",
       "       whiten=False)"
      ]
     },
     "execution_count": 46,
     "metadata": {},
     "output_type": "execute_result"
    }
   ],
   "source": [
    "pca.fit(tfidf.toarray())"
   ]
  },
  {
   "cell_type": "code",
   "execution_count": 47,
   "metadata": {
    "collapsed": false
   },
   "outputs": [
    {
     "name": "stdout",
     "output_type": "stream",
     "text": [
      "[ 0.0776513   0.06693365  0.06088904  0.05789804  0.0533353   0.04962283\n",
      "  0.04787239  0.04558359  0.04440875  0.04313766  0.04302982  0.03962672\n",
      "  0.03830302  0.03634753  0.03585678]\n"
     ]
    }
   ],
   "source": [
    "print(pca.explained_variance_ratio_)"
   ]
  },
  {
   "cell_type": "code",
   "execution_count": 48,
   "metadata": {
    "collapsed": false
   },
   "outputs": [
    {
     "data": {
      "text/plain": [
       "0.61097714710806694"
      ]
     },
     "execution_count": 48,
     "metadata": {},
     "output_type": "execute_result"
    }
   ],
   "source": [
    "sum(pca.explained_variance_)"
   ]
  },
  {
   "cell_type": "code",
   "execution_count": 59,
   "metadata": {
    "collapsed": false
   },
   "outputs": [
    {
     "data": {
      "text/plain": [
       "array([[ 0.02946374,  0.49706797, -0.29585848, -0.44068286, -0.36224846,\n",
       "         0.22645292, -0.09460469, -0.10511972, -0.05819341,  0.06657629,\n",
       "         0.10417855, -0.08303495, -0.17156866,  0.02300129, -0.04456839]])"
      ]
     },
     "execution_count": 59,
     "metadata": {},
     "output_type": "execute_result"
    }
   ],
   "source": [
    "pca.transform(tfidf[1,:].toarray())"
   ]
  },
  {
   "cell_type": "code",
   "execution_count": 60,
   "metadata": {
    "collapsed": false
   },
   "outputs": [
    {
     "data": {
      "text/plain": [
       "array([[ 0.78371395, -0.10428656, -0.06692724,  0.10971775, -0.28026573,\n",
       "        -0.03354644, -0.00862006, -0.14109541,  0.07161482, -0.05691854,\n",
       "        -0.0227676 ,  0.00279854, -0.13364749,  0.05617544, -0.04112762]])"
      ]
     },
     "execution_count": 60,
     "metadata": {},
     "output_type": "execute_result"
    }
   ],
   "source": [
    "pca.transform(tfidf[2,:].toarray())"
   ]
  },
  {
   "cell_type": "code",
   "execution_count": 61,
   "metadata": {
    "collapsed": false
   },
   "outputs": [
    {
     "data": {
      "text/plain": [
       "array([[ 0.3380412 ,  0.40088511,  0.12709053, -0.1425649 ,  0.50340428,\n",
       "         0.24268593,  0.05205757, -0.17956719, -0.00679553,  0.00646802,\n",
       "        -0.0339809 , -0.06772522, -0.07978799, -0.08348602, -0.01058996]])"
      ]
     },
     "execution_count": 61,
     "metadata": {},
     "output_type": "execute_result"
    }
   ],
   "source": [
    "pca.transform(tfidf[3,:].toarray())"
   ]
  },
  {
   "cell_type": "code",
   "execution_count": 65,
   "metadata": {
    "collapsed": false
   },
   "outputs": [
    {
     "data": {
      "text/plain": [
       "[514094, 522623, 522648]"
      ]
     },
     "execution_count": 65,
     "metadata": {},
     "output_type": "execute_result"
    }
   ],
   "source": [
    "ids[1:4]"
   ]
  },
  {
   "cell_type": "code",
   "execution_count": 66,
   "metadata": {
    "collapsed": false
   },
   "outputs": [
    {
     "data": {
      "text/plain": [
       "[u'Taking the effective interaction between a quark and an anti-quark from previous work, the dependendence on a regularization scale is removed in line with the renormalization group. In order to emphasize the essential point, the full spinor interaction is replaced by a model which includes only the Coulomb and the hyperfine interaction. By adjusting the effective quark masses, the only free parameters of the theory, the mass and the size of the pion are reproduced, as well as the mass of all other pseudo-scalar mesons. Estimates for the vector mesons are close to the empirical values. The model exposes screening rather than strict confinement. The ionization thresholds are in general much larger than the pion mass.',\n",
       " u\"Invariant functions under the transformations of a compact linear group $G$ acting in $\\\\real^n$ can be expressed in terms of functions defined in the orbit space of $G$. We develop a method to determine the isotropy classes of the orbit spaces of all the real linear groups whose integrity bases (IB) satisfy only one independent relation. The method is tested for IB's formed by 3 (independent) basic invariants. The result is obtained through a metric matrix $\\\\hat P(p)$, defined only from the scalar products between the gradients of a minimal IB. We determine the matrices $\\\\wP(p)$ from a universal differential equation, which satisfy new convenient additional conditions, which fit for the non-coregular case. Our results may be relevant in physical contexts where the study of covariant or invariant functions is important, like in the determination of patterns of spontaneous symmetry breaking in quantum field theory, in the analysis of phase spaces and structural phase transitions (Landau's theory), in covariant bifurcation theory, in crystal field theory and so on.\",\n",
       " u'Systems that exhibit pattern formation are typically driven and dissipative. In the early universe, parametric resonance can drive explosive particle production called preheating. The fields that are populated then decay quantum mechanically if their particles are unstable. Thus, during preheating, a driven-dissipative system exists. We have shown previously that pattern formation can occur in two dimensions in a self-coupled inflaton system undergoing parametric resonance. In this paper, we provide evidence of pattern formation for more realistic initial conditions in both two and three dimensions. In the one-field case, we have the novel interpretation that these patterns can be thought of as a network of domain walls. We also show that the patterns are spatio-temporal, leading to a distinctive, but probably low-amplitude peak in the gravitational wave spectrum. In the context of a two-field model, we discuss putting power from resonance into patterns on cosmological scales, in particular to explain the observed excess power at 100 h^{-1}Mpc, but why this seems unlikely in the absence of a period of post-preheating inflation. Finally we note our model is similar to that of the decay of DCCs and therefore pattern formation may also occur at RHIC and LHC.']"
      ]
     },
     "execution_count": 66,
     "metadata": {},
     "output_type": "execute_result"
    }
   ],
   "source": [
    "data[1:4]"
   ]
  },
  {
   "cell_type": "code",
   "execution_count": 49,
   "metadata": {
    "collapsed": false
   },
   "outputs": [
    {
     "data": {
      "text/plain": [
       "array([[ -1.36979634e-01,  -2.79812595e-01,  -9.46451381e-02,\n",
       "         -1.42855735e-01,   5.23622310e-01,  -8.08232147e-02,\n",
       "         -1.61205045e-01,  -4.56000385e-02,  -7.03811922e-02,\n",
       "         -2.20222629e-01,  -7.83199985e-03,   7.12715278e-04,\n",
       "         -2.62045758e-03,  -5.20700983e-04,  -1.80755880e-02,\n",
       "          1.60594233e-01,  -5.20006540e-02,  -1.37289537e-01,\n",
       "         -8.61126279e-02,  -8.47701412e-02,  -7.14647745e-02,\n",
       "          5.35674745e-02,   6.57682312e-01,   3.40544666e-02,\n",
       "         -8.55738206e-02],\n",
       "       [ -7.72308236e-02,   2.45746631e-02,  -9.08073859e-02,\n",
       "         -1.73931258e-01,  -1.15177715e-01,  -6.78995321e-02,\n",
       "         -1.76239677e-01,   1.63555669e-02,  -5.36460450e-02,\n",
       "          1.29628127e-01,   5.81802027e-02,  -4.60837026e-03,\n",
       "          9.07620491e-01,   1.09709672e-01,   6.08127207e-03,\n",
       "          1.45726963e-02,  -2.82688607e-02,  -1.46530007e-01,\n",
       "          1.06302455e-02,  -6.72659912e-02,  -7.11653997e-02,\n",
       "          1.83369145e-02,  -2.28275178e-02,  -1.15059706e-01,\n",
       "         -2.26435663e-02],\n",
       "       [ -7.47327991e-02,   4.87510360e-03,  -3.33210599e-02,\n",
       "          8.02914853e-01,   3.51728907e-02,  -1.48273578e-01,\n",
       "          1.56344589e-01,  -2.59215027e-02,   4.60445444e-02,\n",
       "         -4.24811645e-01,   3.19979226e-02,  -4.84103641e-03,\n",
       "          2.12705397e-01,  -3.01754438e-02,   1.66614572e-02,\n",
       "         -6.19690934e-03,  -6.87537216e-02,   3.25686243e-02,\n",
       "         -4.73529203e-02,  -1.53686719e-01,  -1.89734883e-01,\n",
       "          8.79845984e-03,  -3.72140354e-02,   2.85045931e-02,\n",
       "         -1.56406454e-02],\n",
       "       [ -9.19822785e-02,   5.65875130e-01,  -3.97651919e-02,\n",
       "         -2.95512691e-01,  -1.25644174e-01,  -7.46712477e-02,\n",
       "         -3.92518817e-02,   2.81776477e-02,  -8.91511617e-02,\n",
       "         -5.54670939e-01,  -1.23397733e-01,   7.73277970e-04,\n",
       "         -3.91371348e-02,  -4.12385119e-02,   1.44695675e-01,\n",
       "         -8.22667926e-03,   1.04015410e-01,  -6.52158262e-02,\n",
       "          2.97217809e-01,  -9.78226312e-02,  -9.42881260e-02,\n",
       "          2.25801557e-02,   8.55694375e-02,   4.16686851e-02,\n",
       "          2.68715246e-01],\n",
       "       [  6.48685907e-02,  -4.99045608e-02,   1.54815064e-01,\n",
       "         -2.41879513e-01,   5.67152816e-01,   9.50986469e-02,\n",
       "          5.02803764e-02,  -9.02028084e-03,  -1.86756826e-02,\n",
       "         -3.64503266e-01,   1.86439101e-03,   2.31794571e-03,\n",
       "          1.62584344e-01,   4.72006055e-02,  -6.11527027e-02,\n",
       "         -5.41849345e-02,   2.67193180e-02,   1.89460829e-01,\n",
       "         -1.67209828e-01,   9.44448429e-02,   9.93340494e-02,\n",
       "         -3.40087347e-02,  -5.48238870e-01,   1.39786730e-01,\n",
       "         -6.58547007e-02],\n",
       "       [ -5.94087895e-02,   4.95498617e-01,  -1.72078684e-01,\n",
       "          1.74488525e-01,   5.14071675e-01,  -7.98810464e-02,\n",
       "         -7.10268448e-02,  -3.50122767e-02,  -1.33301958e-02,\n",
       "          4.40807051e-01,  -3.94693579e-02,  -1.00504496e-02,\n",
       "         -5.47500220e-02,  -1.19520663e-01,  -1.94942535e-01,\n",
       "         -1.12968244e-01,  -1.00742385e-01,  -2.46994571e-01,\n",
       "          7.43396206e-03,  -8.18729686e-02,  -8.80217191e-02,\n",
       "         -3.73818601e-02,  -1.04820333e-01,  -2.05171661e-02,\n",
       "          2.26519798e-01],\n",
       "       [ -9.23951140e-02,  -4.15186842e-01,  -1.18244215e-01,\n",
       "          3.96604156e-02,   1.56672964e-01,  -6.54181989e-02,\n",
       "          2.04465408e-02,  -2.89652927e-02,  -5.00554935e-03,\n",
       "          4.67125349e-02,  -5.06969407e-02,  -3.98799460e-03,\n",
       "         -4.21643480e-02,  -2.37234811e-02,   7.42440415e-02,\n",
       "          6.81409667e-02,   1.50046138e-01,  -1.92313101e-01,\n",
       "          7.71896233e-01,  -5.54678846e-02,  -2.83635064e-02,\n",
       "          1.26113109e-01,  -2.71902856e-01,  -6.68818479e-02,\n",
       "          5.14215014e-02],\n",
       "       [ -1.04455491e-01,  -5.94604708e-02,  -1.18194497e-01,\n",
       "         -2.49851456e-02,  -1.52543102e-01,  -8.37112665e-02,\n",
       "         -1.41668871e-01,   6.28997468e-02,  -7.06010329e-02,\n",
       "          1.41606257e-02,   8.14863607e-02,   2.00650071e-03,\n",
       "         -1.04242535e-01,   6.36473449e-02,  -8.92096437e-02,\n",
       "          6.66043269e-01,  -7.73785563e-02,  -1.95768496e-01,\n",
       "         -2.25344059e-01,  -8.53013185e-02,  -9.70463487e-02,\n",
       "          1.88483876e-01,  -2.65626199e-01,   4.25670511e-01,\n",
       "          1.98170340e-01],\n",
       "       [ -1.12260997e-01,   1.60867061e-01,  -1.29566339e-01,\n",
       "          2.09696344e-02,   1.07422254e-01,  -2.53498199e-02,\n",
       "         -4.41301638e-02,   4.88498494e-02,  -2.36171535e-02,\n",
       "          5.79005651e-02,   1.05956215e-01,   7.48574796e-04,\n",
       "         -1.26924447e-01,   1.21116213e-01,   7.69448691e-01,\n",
       "          9.82422484e-02,  -1.09783347e-02,  -1.86678359e-01,\n",
       "         -1.47067802e-01,  -3.59223903e-02,   1.63933189e-02,\n",
       "          2.75168003e-02,  -1.56891645e-01,  -1.88372473e-01,\n",
       "         -4.01426300e-01],\n",
       "       [ -1.04786916e-02,  -2.88584566e-01,  -6.47838649e-02,\n",
       "         -3.17074442e-02,  -1.82805693e-02,  -5.62560270e-02,\n",
       "          5.16035927e-02,   5.25850407e-04,   6.37048201e-03,\n",
       "          6.52565646e-02,  -1.01890564e-01,  -3.27576551e-03,\n",
       "          5.28390153e-02,  -1.10353316e-01,   4.27263522e-01,\n",
       "         -4.73093854e-01,   4.12926637e-02,  -1.29595552e-01,\n",
       "         -2.27131215e-01,  -2.16684599e-02,  -2.13653566e-02,\n",
       "          6.00959171e-02,   9.82677038e-03,   3.79294470e-01,\n",
       "          5.00624109e-01],\n",
       "       [ -2.83883515e-02,   1.31468441e-01,  -2.43756920e-02,\n",
       "          1.19903548e-02,  -4.67414294e-02,  -6.69723582e-02,\n",
       "         -7.86808671e-02,  -3.56637502e-02,  -4.05594886e-02,\n",
       "          9.16267359e-02,   3.04258857e-02,  -6.26520054e-04,\n",
       "          3.83664724e-02,  -3.76535434e-02,  -4.41520087e-02,\n",
       "         -1.90693824e-01,   6.84840622e-02,  -4.17376788e-03,\n",
       "          2.22074655e-01,  -2.07369940e-02,  -3.75214557e-02,\n",
       "         -1.96507470e-01,   6.46171137e-02,   7.32173119e-01,\n",
       "         -5.29281630e-01],\n",
       "       [ -1.82319779e-01,   6.21357905e-02,  -4.99497313e-02,\n",
       "         -6.48735555e-03,  -5.48044356e-02,   6.19067202e-02,\n",
       "         -3.04613513e-02,   1.15656958e-01,  -6.37018714e-03,\n",
       "         -6.78331941e-02,   1.08196371e-01,   3.23175450e-03,\n",
       "         -7.11125454e-02,   1.10767948e-01,  -2.20388505e-01,\n",
       "         -3.46298745e-01,   4.76187334e-03,  -1.11052764e-01,\n",
       "         -6.78874823e-02,   2.01266008e-02,   5.77716762e-02,\n",
       "          8.22716352e-01,  -2.74923428e-02,  -1.63483506e-03,\n",
       "         -1.96759938e-01],\n",
       "       [ -1.00671627e-01,  -4.73312307e-02,  -1.34531236e-01,\n",
       "          7.31565434e-02,  -4.31149111e-02,   1.07395787e-01,\n",
       "         -1.93239732e-01,   3.64917576e-03,  -1.53910016e-02,\n",
       "         -1.66916053e-01,   5.03292057e-01,   7.06959072e-03,\n",
       "         -1.23780088e-01,   5.28046336e-01,  -1.32067008e-01,\n",
       "         -2.11074803e-01,  -4.41839455e-02,  -2.69734986e-01,\n",
       "          3.70724107e-02,   7.31203074e-02,   2.21189986e-01,\n",
       "         -3.42166833e-01,  -1.92660604e-02,  -9.31941730e-03,\n",
       "          1.67140771e-01],\n",
       "       [  2.19886911e-01,  -3.41532742e-03,   1.29287082e-01,\n",
       "         -1.69155485e-02,   3.33766464e-02,  -7.49811905e-02,\n",
       "         -3.84538809e-01,  -3.00760303e-01,  -1.40694471e-01,\n",
       "          8.93093846e-02,   2.36463042e-01,   6.92512914e-04,\n",
       "         -8.42634573e-02,   2.03099762e-01,   1.39484844e-01,\n",
       "         -8.29635420e-02,  -2.76859919e-01,   4.58876441e-01,\n",
       "          1.33061431e-01,  -1.95924634e-01,  -3.87653867e-01,\n",
       "          1.64784662e-01,  -2.70409575e-02,   6.38419107e-03,\n",
       "          9.84190572e-02],\n",
       "       [  3.22801262e-01,  -6.40075787e-02,  -7.91329281e-02,\n",
       "         -8.75206153e-02,   5.14690108e-02,  -4.12365595e-03,\n",
       "          1.13864275e-01,   8.00257933e-01,   1.77602777e-02,\n",
       "          2.96965288e-03,   4.82978721e-02,  -5.49569089e-03,\n",
       "         -4.74093453e-02,   1.14720796e-01,  -4.76835120e-02,\n",
       "         -7.94332756e-02,  -7.60946710e-02,  -1.45491569e-02,\n",
       "          2.61519837e-02,  -2.18474774e-01,  -3.63053662e-01,\n",
       "         -8.33979663e-02,   2.20563540e-03,  -1.67547094e-02,\n",
       "         -3.98948653e-02]])"
      ]
     },
     "execution_count": 49,
     "metadata": {},
     "output_type": "execute_result"
    }
   ],
   "source": [
    "pca.components_"
   ]
  },
  {
   "cell_type": "code",
   "execution_count": null,
   "metadata": {
    "collapsed": true
   },
   "outputs": [],
   "source": []
  }
 ],
 "metadata": {
  "kernelspec": {
   "display_name": "Python 2",
   "language": "python",
   "name": "python2"
  },
  "language_info": {
   "codemirror_mode": {
    "name": "ipython",
    "version": 2
   },
   "file_extension": ".py",
   "mimetype": "text/x-python",
   "name": "python",
   "nbconvert_exporter": "python",
   "pygments_lexer": "ipython2",
   "version": "2.7.10"
  }
 },
 "nbformat": 4,
 "nbformat_minor": 0
}
