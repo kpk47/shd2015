{
 "cells": [
  {
   "cell_type": "markdown",
   "metadata": {},
   "source": [
    "# Converting from recid to arXiv identifier\n",
    "Flip Tanedo\n",
    "24 October 2015\n",
    "for: Science Hack Day SF 2015, CiteMap team\n",
    "\n",
    "**Background**: when playing with bibliographic data in high energy physics (HEP) the InspireHEP database uses a unique *recid* to identify papers, while the arXiv uses a unique *arXiv identifier*. These are simple functions which call the InspireHEP API to [try to] map between *recid*s to *arXiv identifiers*. It also takes *recid*s and outputs basic paper data.\n",
    "\n",
    "For information about the inspireHEP API, see: http://inspirehep.net/info/hep/api?ln=en\n",
    "Note that their examples don't point out the (perhaps obvious) point that all the requests should be prefixed with 'http://inspirehep.net'."
   ]
  },
  {
   "cell_type": "code",
   "execution_count": 179,
   "metadata": {
    "collapsed": true
   },
   "outputs": [],
   "source": [
    "import json\n",
    "import requests\n",
    "\n",
    "inspire_location = 'http://inspirehep.net/'\n",
    "output_type = 'ot=primary_report_number,recid,title,system_control_number,doi,filenames'\n",
    "get_json = 'of=recjson'\n",
    "\n",
    "def arXiv_to_recid(arXiv_id_str):\n",
    "    \"\"\" \n",
    "    Input: arXiv ID ('hep-ph/0410364' or '1506.06131') \n",
    "    Output: InspireHEP recid\n",
    "    \"\"\"\n",
    "    query = 'search?p=eprint:arxiv:' + arXiv_id_str\n",
    "    queryold = 'search?p=eprint:' + arXiv_id_str\n",
    "    if arXiv_id_str[:4].isdigit(): \n",
    "        my_request = inspire_location + query + '&' + get_json + '&' + output_type\n",
    "    else:\n",
    "        my_request = inspire_location + queryold + '&' + get_json + '&' + output_type\n",
    "    my_json = requests.get(my_request).json()\n",
    "    if len(my_json) > 1:\n",
    "        print \"HEY, not a unique arXiv ID! Error in arXiv_json.\"\n",
    "    return my_json[0]['recid']\n",
    "# Examples: \n",
    "# arXiv_to_recid('hep-ph/0305127')\n",
    "# arXiv_to_recid('0801.1833')\n",
    "\n",
    "    \n",
    "def recid_to_arXiv(recid_str):\n",
    "    \"\"\"\n",
    "    Input: recid (e.g. '618609')\n",
    "    Output: arXiv identifier\n",
    "    Note: this is much more difficult since the arXiv IDs aren't encoded\n",
    "    in a standardized way!\n",
    "    \"\"\"\n",
    "    query = 'record/' + recid_str\n",
    "    my_request = inspire_location + query + '?' + get_json + '&' + output_type\n",
    "    my_json = requests.get(my_request).json()\n",
    "    if len(my_json) > 1:\n",
    "        print \"HEY, not a unique recid! Error in recid_to_arXiv.\"\n",
    "    ## UNFINISHED:\n",
    "    ##\n",
    "    ## Need to extract the arXiv identifier from this\n",
    "    ## it takes one of two forms: \n",
    "    ## (1) arXiv:0801.1833\n",
    "    ## (2) arXiv:hep-ph/0305127 , where \"hep-ph\" can be different letters, see arXiv for examples\n",
    "    ##\n",
    "    return str(my_json)"
   ]
  },
  {
   "cell_type": "markdown",
   "metadata": {},
   "source": [
    "## Testing and Examples"
   ]
  },
  {
   "cell_type": "code",
   "execution_count": 161,
   "metadata": {
    "collapsed": false
   },
   "outputs": [
    {
     "data": {
      "text/plain": [
       "618609"
      ]
     },
     "execution_count": 161,
     "metadata": {},
     "output_type": "execute_result"
    }
   ],
   "source": [
    "arXiv_to_recid('hep-ph/0305127')"
   ]
  },
  {
   "cell_type": "code",
   "execution_count": 157,
   "metadata": {
    "collapsed": false
   },
   "outputs": [
    {
     "data": {
      "text/plain": [
       "777282"
      ]
     },
     "execution_count": 157,
     "metadata": {},
     "output_type": "execute_result"
    }
   ],
   "source": [
    "arXiv_to_recid('0801.1833')"
   ]
  },
  {
   "cell_type": "code",
   "execution_count": 159,
   "metadata": {
    "collapsed": false
   },
   "outputs": [
    {
     "data": {
      "text/plain": [
       "618609"
      ]
     },
     "execution_count": 159,
     "metadata": {},
     "output_type": "execute_result"
    }
   ],
   "source": [
    "arXiv_to_recid('hep-ph/0305127')"
   ]
  },
  {
   "cell_type": "code",
   "execution_count": 180,
   "metadata": {
    "collapsed": false
   },
   "outputs": [
    {
     "name": "stdout",
     "output_type": "stream",
     "text": [
      "[{u'doi': u'10.1016/j.nuclphysb.2003.08.033', u'title': {u'title': u'On the two loop Yukawa corrections to the MSSM Higgs boson masses at large tan beta'}, u'system_control_number': [{u'institute': u'arXiv', u'canceled': u'oai:arXiv.org:hep-ph/0305127', u'value': u'oai:arXiv.org:hep-ph/0305127'}, {u'institute': u'DESY', u'canceled': u'D03-09843'}, {u'institute': u'SPIRESTeX', u'value': u'Dedes:2003km'}, {u'institute': u'CDS', u'value': u'621776'}], u'filenames': [u'arXiv:hep-ph_0305127.pdf', u'arXiv:hep-ph_0305127'], u'recid': 618609, u'primary_report_number': [u'hep-ph/0305127', u'MPI-PHT-2003-21', u'TUM-HEP-507-03', u'RM3-TH-03-05']}]\n"
     ]
    }
   ],
   "source": [
    "temp=recid_to_arXiv('618609')\n",
    "print temp"
   ]
  },
  {
   "cell_type": "code",
   "execution_count": null,
   "metadata": {
    "collapsed": true
   },
   "outputs": [],
   "source": []
  }
 ],
 "metadata": {
  "kernelspec": {
   "display_name": "Python 2",
   "language": "python",
   "name": "python2"
  },
  "language_info": {
   "codemirror_mode": {
    "name": "ipython",
    "version": 2
   },
   "file_extension": ".py",
   "mimetype": "text/x-python",
   "name": "python",
   "nbconvert_exporter": "python",
   "pygments_lexer": "ipython2",
   "version": "2.7.10"
  }
 },
 "nbformat": 4,
 "nbformat_minor": 0
}
